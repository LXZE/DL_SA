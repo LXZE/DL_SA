{
 "cells": [
  {
   "cell_type": "code",
   "execution_count": 1,
   "metadata": {},
   "outputs": [
    {
     "name": "stdout",
     "output_type": "stream",
     "text": [
      "\n"
     ]
    }
   ],
   "source": [
    "%matplotlib inline\n",
    "\n",
    "#matplotlib\n",
    "import matplotlib.font_manager as fm\n",
    "import matplotlib.pyplot as plt\n",
    "import itertools\n",
    "\n",
    "\n",
    "def plot_accnloss(history):\n",
    "    plt.plot(history.history['acc'])\n",
    "    plt.plot(history.history['val_acc'])\n",
    "    plt.title('model accuracy')\n",
    "    plt.ylabel('accuracy')\n",
    "    plt.xlabel('epoch')\n",
    "    plt.legend(['train', 'test'], loc='upper left')\n",
    "    plt.show()\n",
    "    \n",
    "    plt.plot(history.history['loss'])\n",
    "    plt.plot(history.history['val_loss'])\n",
    "    plt.title('model loss')\n",
    "    plt.ylabel('loss')\n",
    "    plt.xlabel('epoch')\n",
    "    plt.legend(['train', 'test'], loc='upper left')\n",
    "    plt.show()\n",
    "    \n",
    "def plot_confusion_matrix(cm, classes,\n",
    "                          normalize=False,\n",
    "                          title='Confusion matrix',\n",
    "                          cmap=plt.cm.Blues):\n",
    "    if normalize:\n",
    "        cm = cm.astype('float') / cm.sum(axis=1)[:, np.newaxis]\n",
    "        print(\"Normalized confusion matrix\")\n",
    "    else:\n",
    "        print('Confusion matrix, without normalization')\n",
    "\n",
    "    print(cm)\n",
    "\n",
    "    plt.imshow(cm, interpolation='nearest', cmap=cmap)    \n",
    "    plt.title(title)\n",
    "    plt.colorbar()\n",
    "    tick_marks = np.arange(len(classes))\n",
    "    tick_marks = [0, 1]\n",
    "    plt.xticks(tick_marks, classes, rotation=45)\n",
    "    plt.yticks(tick_marks, classes)\n",
    "    plt.grid(False)\n",
    "\n",
    "    fmt = '.2f' if normalize else 'd'\n",
    "    thresh = cm.max() / 2.\n",
    "    for i, j in itertools.product(range(cm.shape[0]), range(cm.shape[1])):\n",
    "        plt.text(j, i, format(cm[i, j], fmt), horizontalalignment=\"center\",\n",
    "                 color=\"white\" if cm[i, j] > thresh else \"black\")\n",
    "\n",
    "#     plt.tight_layout()\n",
    "    plt.ylabel('True label')\n",
    "    plt.xlabel('Predicted label')\n",
    "    \n",
    "    plt.show()\n",
    "    \n",
    "get_val = lambda arr: list(map(lambda x: x[1], arr))\n",
    "print('')"
   ]
  },
  {
   "cell_type": "code",
   "execution_count": 2,
   "metadata": {},
   "outputs": [
    {
     "name": "stderr",
     "output_type": "stream",
     "text": [
      "Using TensorFlow backend.\n"
     ]
    },
    {
     "name": "stdout",
     "output_type": "stream",
     "text": [
      "(34912, 600) (34912, 2)\n",
      "int32 int32\n",
      "(6161, 600) (6161, 2)\n",
      "int32 int32\n",
      "pos size = 3224\n",
      "neg size = 2937\n",
      "float32\n"
     ]
    }
   ],
   "source": [
    "import numpy as np\n",
    "import pandas as pd\n",
    "import pathlib\n",
    "\n",
    "# from attention import AttentionWithContext\n",
    "\n",
    "import time, sys\n",
    "from sklearn.model_selection import train_test_split\n",
    "from sklearn.model_selection import KFold\n",
    "from sklearn import metrics\n",
    "from sklearn.metrics import confusion_matrix\n",
    "\n",
    "# from keras.models import Sequential, Model, load_model\n",
    "# from keras.layers import Dense, Conv1D, MaxPooling1D, GRU, Embedding, LSTM, Input\n",
    "# from keras.layers import Activation, Dropout, Flatten, Bidirectional, TimeDistributed, Reshape\n",
    "# from keras.callbacks import ModelCheckpoint, EarlyStopping\n",
    "# from keras import optimizers, utils, regularizers\n",
    "# from keras import backend as K\n",
    "# import tensorflow as tf\n",
    "\n",
    "# config = tf.ConfigProto()\n",
    "# config.gpu_options.allow_growth = True\n",
    "# K.tensorflow_backend.set_session(tf.Session(config=config))\n",
    "\n",
    "import dill as pickle\n",
    "\n",
    "[x_train, x_test, y_train, y_test] = np.load('../dataset/train_test_data.npy')\n",
    "x_train = x_train.astype('int32')\n",
    "x_test = x_test.astype('int32')\n",
    "print(x_train.shape, y_train.shape)\n",
    "print(x_train.dtype, y_train.dtype)\n",
    "print(x_test.shape, y_test.shape)\n",
    "print(x_test.dtype, y_test.dtype)\n",
    "\n",
    "print(f'pos size = { len(y_test[np.where( y_test[:,0] == 0 )]) }')\n",
    "print(f'neg size = { len(y_test[np.where( y_test[:,0] == 1 )]) }')\n",
    "\n",
    "word_vec = np.load('../model/vec.npy')\n",
    "\n",
    "# print(K.floatx()) # should equal float32"
   ]
  },
  {
   "cell_type": "code",
   "execution_count": 3,
   "metadata": {},
   "outputs": [
    {
     "name": "stderr",
     "output_type": "stream",
     "text": [
      "C:\\Users\\L\\Miniconda3\\envs\\dev\\lib\\site-packages\\gensim\\utils.py:1197: UserWarning: detected Windows; aliasing chunkize to chunkize_serial\n",
      "  warnings.warn(\"detected Windows; aliasing chunkize to chunkize_serial\")\n"
     ]
    },
    {
     "name": "stdout",
     "output_type": "stream",
     "text": [
      "(20000, 65000)\n",
      "35.1932590007782\n"
     ]
    }
   ],
   "source": [
    "from gensim.models import KeyedVectors\n",
    "from collections import defaultdict as ddict\n",
    "pad_token = x_train[0][-1]\n",
    "x_train = np.array(list(map(lambda x: np.array(list(filter(lambda e: e!=pad_token, x))) , x_train)))\n",
    "x_test = np.array(list(map(lambda x: np.array(list(filter(lambda e: e!=pad_token, x))) , x_test)))\n",
    "vector_model_dir = '../model/'\n",
    "vector_model_path_bin = f'{vector_model_dir}vec.bin'\n",
    "vector_model = KeyedVectors.load_word2vec_format(vector_model_path_bin, binary=True)\n",
    "\n",
    "itos = vector_model.index2word\n",
    "# stoi = ddict(lambda: 0, {v:k for k,v in enumerate(itos)})\n",
    "\n",
    "patt = lambda: [False] * len(itos)\n",
    "def occ(x):\n",
    "    res = patt()\n",
    "    for i in x:\n",
    "        res[i] = True\n",
    "    return res\n",
    "\n",
    "import time\n",
    "start = time.time()\n",
    "\n",
    "x_train_nb = np.array(list(map(lambda x: occ(x) , x_train[:20000])))\n",
    "x_test_nb = np.array(list(map(lambda x: occ(x) , x_test)))\n",
    "print(x_train_nb.shape)\n",
    "\n",
    "end = time.time()\n",
    "print(end-start)\n",
    "\n",
    "# y_train = np.array(get_val(y_train))\n",
    "# y_true = get_val(y_test)\n",
    "# y_test = np.array(get_val(y_test))"
   ]
  },
  {
   "cell_type": "code",
   "execution_count": 4,
   "metadata": {},
   "outputs": [
    {
     "name": "stdout",
     "output_type": "stream",
     "text": [
      "61.08368229866028\n"
     ]
    }
   ],
   "source": [
    "\n",
    "from sklearn.naive_bayes import GaussianNB\n",
    "\n",
    "y_train = np.array(get_val(y_train))\n",
    "y_true = get_val(y_test)\n",
    "y_test = np.array(get_val(y_test))\n",
    "\n",
    "# from sklearn import datasets\n",
    "# iris = datasets.load_iris()\n",
    "# print(iris.data)\n",
    "# print(x_train)\n",
    "\n",
    "\n",
    "\n",
    "\n",
    "gnb = GaussianNB()\n",
    "y_predict = gnb.fit(x_train_nb, y_train[:20000]).predict(x_test_nb)\n",
    "\n",
    "end = time.time()\n",
    "total_time = end-start\n",
    "print(total_time)"
   ]
  },
  {
   "cell_type": "code",
   "execution_count": 5,
   "metadata": {},
   "outputs": [
    {
     "name": "stdout",
     "output_type": "stream",
     "text": [
      "              precision    recall  f1-score   support\n",
      "\n",
      "    negative   0.547418  0.906027  0.682483      2937\n",
      "    positive   0.787692  0.317618  0.452697      3224\n",
      "\n",
      "   micro avg   0.598117  0.598117  0.598117      6161\n",
      "   macro avg   0.667555  0.611822  0.567590      6161\n",
      "weighted avg   0.673152  0.598117  0.562238      6161\n",
      "\n",
      "Normalized confusion matrix\n",
      "[[0.31761787 0.68238213]\n",
      " [0.09397344 0.90602656]]\n"
     ]
    },
    {
     "data": {
      "image/png": "[encoded data removed]",
      "text/plain": [
       "<matplotlib.figure.Figure at 0x20ff89d9668>"
      ]
     },
     "metadata": {
      "needs_background": "light"
     },
     "output_type": "display_data"
    },
    {
     "name": "stdout",
     "output_type": "stream",
     "text": [
      "Confusion matrix, without normalization\n",
      "[[1024 2200]\n",
      " [ 276 2661]]\n"
     ]
    },
    {
     "data": {
      "image/png": "[encoded data removed]",
      "text/plain": [
       "<matplotlib.figure.Figure at 0x20ff0ece5c0>"
      ]
     },
     "metadata": {
      "needs_background": "light"
     },
     "output_type": "display_data"
    }
   ],
   "source": [
    "\n",
    "print(metrics.classification_report(y_true, y_predict, target_names = ['negative', 'positive'], digits=6))\n",
    "\n",
    "plot_confusion_matrix(confusion_matrix(y_true, y_predict, labels=[1,0]), \n",
    "                      classes=['positive', 'negative'], \n",
    "                      normalize=True,\n",
    "                      title='Confusion matrix')\n",
    "\n",
    "plot_confusion_matrix(confusion_matrix(y_true, y_predict, labels=[1,0]), \n",
    "                      classes=['positive', 'negative'], \n",
    "                      normalize=False,\n",
    "                      title='Confusion matrix')\n"
   ]
  }
 ],
 "metadata": {
  "kernelspec": {
   "display_name": "Python 3",
   "language": "python",
   "name": "python3"
  },
  "language_info": {
   "codemirror_mode": {
    "name": "ipython",
    "version": 3
   },
   "file_extension": ".py",
   "mimetype": "text/x-python",
   "name": "python",
   "nbconvert_exporter": "python",
   "pygments_lexer": "ipython3",
   "version": "3.6.8"
  }
 },
 "nbformat": 4,
 "nbformat_minor": 2
}
